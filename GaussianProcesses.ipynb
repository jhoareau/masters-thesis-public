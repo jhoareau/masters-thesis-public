{
 "cells": [
  {
   "cell_type": "code",
   "execution_count": 3,
   "metadata": {
    "nbpresent": {
     "id": "f0ebf527-5623-4464-b810-580c1698b58f"
    }
   },
   "outputs": [],
   "source": [
    "import pandas as pd\n",
    "import math\n",
    "import numpy as np\n",
    "from sklearn import model_selection\n",
    "import scipy.linalg as linalg\n",
    "import scipy.stats as stats\n",
    "from sklearn.metrics import mean_squared_error\n",
    "from sklearn.metrics.pairwise import pairwise_distances\n",
    "from sklearn.preprocessing import StandardScaler, RobustScaler\n",
    "from scipy.spatial import cKDTree\n",
    "from PCHA import PCHA"
   ]
  },
  {
   "cell_type": "code",
   "execution_count": 4,
   "metadata": {
    "nbpresent": {
     "id": "fc8bb947-9111-4a29-93e9-b9155a88358b"
    }
   },
   "outputs": [],
   "source": [
    "import gpflow\n",
    "from tensorflow import logging\n",
    "import tensorflow as tf\n",
    "logging.set_verbosity(logging.WARN)"
   ]
  },
  {
   "cell_type": "code",
   "execution_count": null,
   "metadata": {},
   "outputs": [],
   "source": []
  },
  {
   "cell_type": "code",
   "execution_count": 5,
   "metadata": {},
   "outputs": [],
   "source": [
    "import random\n",
    "\n",
    "def kMedoids(D, k, tmax=100):\n",
    "    # determine dimensions of distance matrix D\n",
    "    m, n = D.shape\n",
    "\n",
    "    if k > n:\n",
    "        raise Exception('too many medoids')\n",
    "\n",
    "    # find a set of valid initial cluster medoid indices since we\n",
    "    # can't seed different clusters with two points at the same location\n",
    "    valid_medoid_inds = set(range(n))\n",
    "    invalid_medoid_inds = set([])\n",
    "    rs,cs = np.where(D==0)\n",
    "    # the rows, cols must be shuffled because we will keep the first duplicate below\n",
    "    index_shuf = list(range(len(rs)))\n",
    "    np.random.shuffle(index_shuf)\n",
    "    rs = rs[index_shuf]\n",
    "    cs = cs[index_shuf]\n",
    "    for r,c in zip(rs,cs):\n",
    "        # if there are two points with a distance of 0...\n",
    "        # keep the first one for cluster init\n",
    "        if r < c and r not in invalid_medoid_inds:\n",
    "            invalid_medoid_inds.add(c)\n",
    "    valid_medoid_inds = list(valid_medoid_inds - invalid_medoid_inds)\n",
    "\n",
    "    if k > len(valid_medoid_inds):\n",
    "        raise Exception('too many medoids (after removing {} duplicate points)'.format(\n",
    "            len(invalid_medoid_inds)))\n",
    "\n",
    "    # randomly initialize an array of k medoid indices\n",
    "    M = np.array(valid_medoid_inds)\n",
    "    np.random.shuffle(M)\n",
    "    M = np.sort(M[:k])\n",
    "\n",
    "    # create a copy of the array of medoid indices\n",
    "    Mnew = np.copy(M)\n",
    "\n",
    "    # initialize a dictionary to represent clusters\n",
    "    C = {}\n",
    "    for t in range(tmax):\n",
    "        # determine clusters, i. e. arrays of data indices\n",
    "        J = np.argmin(D[:,M], axis=1)\n",
    "        for kappa in range(k):\n",
    "            C[kappa] = np.where(J==kappa)[0]\n",
    "        # update cluster medoids\n",
    "        for kappa in range(k):\n",
    "            J = np.mean(D[np.ix_(C[kappa],C[kappa])],axis=1)\n",
    "            j = np.argmin(J)\n",
    "            Mnew[kappa] = C[kappa][j]\n",
    "        np.sort(Mnew)\n",
    "        # check for convergence\n",
    "        if np.array_equal(M, Mnew):\n",
    "            break\n",
    "        M = np.copy(Mnew)\n",
    "    else:\n",
    "        # final update of cluster memberships\n",
    "        J = np.argmin(D[:,M], axis=1)\n",
    "        for kappa in range(k):\n",
    "            C[kappa] = np.where(J==kappa)[0]\n",
    "\n",
    "    # return results\n",
    "    return M, C\n",
    "\n",
    "def archetypal_analysis(X, k):\n",
    "    archetypes = PCHA(X.transpose(), k, conv_crit=1E-3, maxiter=50)[0].transpose()\n",
    "    tree = cKDTree(X)\n",
    "    return X[tree.query(archetypes, k=1)[1], :]"
   ]
  },
  {
   "cell_type": "code",
   "execution_count": null,
   "metadata": {},
   "outputs": [],
   "source": []
  },
  {
   "cell_type": "code",
   "execution_count": 6,
   "metadata": {
    "nbpresent": {
     "id": "c24c6bd6-a470-4066-906a-c10f59295625"
    }
   },
   "outputs": [],
   "source": [
    "def y_transform_fn(value):\n",
    "    if value < 1800:\n",
    "        scaled_value = value/3600\n",
    "    elif value >= 1800 and value <= 7200:\n",
    "        scaled_value = (value + 3600)/10800\n",
    "    else:\n",
    "        scaled_value = value/7200\n",
    "    return math.log(1+1/scaled_value)\n",
    "\n",
    "\n",
    "def remove_one_hot(X):\n",
    "    mappings = {\n",
    "        'tone': ['tone_1', 'tone_2', 'tone_3'],\n",
    "        'day_of_week': ['day_of_week_0', 'day_of_week_1','day_of_week_2','day_of_week_3','day_of_week_4','day_of_week_5','day_of_week_6']\n",
    "    }\n",
    "    X_transformed = X[:]\n",
    "    \n",
    "    def clean_col_name(element):\n",
    "        return int(element[-1])\n",
    "            \n",
    "    for (col, cols) in mappings.items():\n",
    "        X_transformed[col] = list(map(clean_col_name, (X.loc[:, cols] == 1).idxmax(1)))\n",
    "        X_transformed = X_transformed.drop(cols, axis=1)\n",
    "    \n",
    "    return X_transformed"
   ]
  },
  {
   "cell_type": "code",
   "execution_count": 7,
   "metadata": {
    "nbpresent": {
     "id": "1bf754de-bb4d-44c4-b077-12a0c2a5afa1"
    }
   },
   "outputs": [],
   "source": [
    "X_pd = pd.read_pickle('training_data_X')\n",
    "y_pd = pd.read_pickle('training_data_y')\n",
    "X_pd.loc[:, 'sent_to_open_delta'] = X_pd.loc[:, 'sent_to_open_delta'].astype('float16')\n",
    "X_pd['sent_to_open_delta'] = X_pd['sent_to_open_delta'].apply(pd.to_numeric).apply(y_transform_fn)\n",
    "X = X_pd.values\n",
    "\n",
    "int_mask = list(map(int, X_pd['sent_to_open_delta'] > 0))\n",
    "X_masked = X_pd.loc[X_pd.index[X_pd['sent_to_open_delta'] > 0], :]\n",
    "y_masked = y_pd.loc[X_pd.index[X_pd['sent_to_open_delta'] > 0]]\n",
    "X2 = X_masked.values\n",
    "\n",
    "X_no_open = X_pd.loc[:, X_pd.columns != 'sent_to_open_delta']\n",
    "X3 = X_no_open.values\n",
    "\n",
    "y_original = y_pd.values\n",
    "y_masked_original = y_masked.values\n",
    "\n",
    "N = len(y_original)\n",
    "y = np.reshape(np.array(list(map(y_transform_fn, y_original))), (len(y_original), 1))\n",
    "y2 = np.reshape(np.array(list(map(y_transform_fn, y_masked_original))), (len(y_masked_original), 1))\n",
    "M1 = len(list(X_pd.columns.values))\n",
    "M3 = len(list(X_no_open.columns.values))"
   ]
  },
  {
   "cell_type": "code",
   "execution_count": 8,
   "metadata": {},
   "outputs": [
    {
     "data": {
      "text/plain": [
       "array(['end_to_sent_delta', 'last_progress_report_value',\n",
       "       'last_report_delta', 'package_duration', 'sent_to_open_delta',\n",
       "       'time_of_day', 'day_of_week_0', 'day_of_week_1', 'day_of_week_2',\n",
       "       'day_of_week_3', 'day_of_week_4', 'day_of_week_5', 'day_of_week_6',\n",
       "       'tone_1', 'tone_2', 'tone_3', 'who_assigned_role_owner',\n",
       "       'who_assigned_role_manager'], dtype=object)"
      ]
     },
     "execution_count": 8,
     "metadata": {},
     "output_type": "execute_result"
    }
   ],
   "source": [
    "X_pd.columns.values"
   ]
  },
  {
   "cell_type": "code",
   "execution_count": 9,
   "metadata": {},
   "outputs": [],
   "source": [
    "def scale(X, df=X_pd, normalisation=None):\n",
    "    columns_to_scale = set(['last_report_delta', 'package_duration', 'end_to_sent_delta', 'sent_to_open_delta', 'time_of_day']).intersection(df.columns.values)\n",
    "    columns_indexes = [df.columns.get_loc(col) for col in columns_to_scale]\n",
    "    X_transformed = X[:]\n",
    "    if len(X.shape) == 2 and X.shape[1] > 1:\n",
    "        if normalisation == None:\n",
    "            normalisation = StandardScaler().fit(X[:, columns_indexes])\n",
    "        X_transformed[:, columns_indexes] = normalisation.transform(X[:, columns_indexes])\n",
    "    else:\n",
    "        if normalisation == None:\n",
    "            normalisation = StandardScaler().fit(X)\n",
    "        X_transformed = normalisation.transform(X)\n",
    "    \n",
    "    return X_transformed, normalisation"
   ]
  },
  {
   "cell_type": "code",
   "execution_count": null,
   "metadata": {
    "nbpresent": {
     "id": "050e0ed3-335a-4dd2-908d-ed481f196aeb"
    }
   },
   "outputs": [],
   "source": []
  },
  {
   "cell_type": "code",
   "execution_count": 10,
   "metadata": {
    "nbpresent": {
     "id": "ed2a7003-5992-4734-899c-8483b117bd04"
    }
   },
   "outputs": [],
   "source": [
    "from gpflow.actions import Loop, Action\n",
    "from gpflow.training import AdamOptimizer\n",
    "\n",
    "def run_adam(model, lr, iterations, callback=None):\n",
    "    adam = AdamOptimizer(lr).make_optimize_action(model)\n",
    "    actions = [adam] if callback is None else [adam, callback]\n",
    "    loop = Loop(actions, stop=iterations)()\n",
    "    model.anchor(model.enquire_session())\n",
    "    \n",
    "kf = model_selection.KFold(n_splits=10)\n",
    "N_inducing = 15\n",
    "\n",
    "def random_initialize(array):\n",
    "    try:\n",
    "        myclip_a = 0\n",
    "        myclip_b = 50\n",
    "        my_std = 20\n",
    "        my_mean = 10\n",
    "        a, b = (myclip_a - my_mean) / my_std, (myclip_b - my_mean) / my_std\n",
    "        random_gen = stats.truncnorm(a, b, loc=1.5, scale=2)\n",
    "        return random_gen.rvs(array.shape)\n",
    "    except:\n",
    "        return np.absolute(20 * np.random.randn() + 20)\n",
    "\n",
    "def set_white_variance(model, variance):\n",
    "    try:\n",
    "        for kernel in model.kern.kernels:\n",
    "            if isinstance(kernel, gpflow.kernels.White):\n",
    "                kernel.variance = variance\n",
    "                kernel.variance.trainable = False\n",
    "    except AttributeError:\n",
    "        pass\n",
    "    \n",
    "def optimize_model(model, opt):\n",
    "    model.compile()\n",
    "    if (opt == 'scipy'):\n",
    "        opt_ = gpflow.train.ScipyOptimizer()\n",
    "        opt_.minimize(model, anchor=False)\n",
    "    if (opt == 'adam'):\n",
    "        run_adam(model, 1e-3, 150)\n",
    "\n",
    "def model_from_kernel(k, X_, y_, model='gpr', opt='scipy', InducingPoints=None):\n",
    "    try:\n",
    "        mean_f = gpflow.mean_functions.Constant(c=y_.min())\n",
    "        if (model == 'gpr'):\n",
    "            m = gpflow.models.GPR(X_, y_, kern=k, mean_function=mean_f)\n",
    "        if (model == 'sgpr' and InducingPoints is not None):\n",
    "            m = gpflow.models.SGPR(X_, y_, kern=k, Z=InducingPoints, mean_function=mean_f)\n",
    "        assert m is not None\n",
    "        set_white_variance(m, 1e-3)\n",
    "        optimize_model(m, opt)\n",
    "        went_wrong = False\n",
    "    except (AttributeError, tf.errors.InvalidArgumentError):\n",
    "        try:\n",
    "            if (model == 'gpr'):\n",
    "                m1 = gpflow.models.GPR(X_, y_, kern=k, mean_function=mean_f)\n",
    "            if (model == 'sgpr' and InducingPoints is not None):\n",
    "                m1 = gpflow.models.SGPR(X_, y_, kern=k, Z=InducingPoints, mean_function=mean_f)\n",
    "            assert m1 is not None\n",
    "            set_white_variance(m1, 1e-1)\n",
    "            print('Trying with higher diagonal jitter')\n",
    "            optimize_model(m1, opt)\n",
    "            return m1, False\n",
    "        except (AttributeError, tf.errors.InvalidArgumentError):\n",
    "            print('The data in this split is not compatible with this kernel.')\n",
    "            went_wrong = True\n",
    "    \n",
    "    return m, went_wrong\n",
    "\n",
    "def cv_model(k, X_, y_, k_name, model='gpr', opt='scipy', split='kfold'):\n",
    "    errors = list()\n",
    "    y_predict_train = list()\n",
    "    var_predict_train = list()\n",
    "    y_predict = list()\n",
    "    var_predict = list()\n",
    "    models = list()\n",
    "    \n",
    "    if (split == 'kfold'):\n",
    "        split = kf.split(X_)\n",
    "    elif (split == 'final'):\n",
    "        N = int(9/10 * X_.shape[0])\n",
    "        indices = np.random.permutation(X_.shape[0])\n",
    "        training_idx, test_idx = indices[:N], indices[N:]\n",
    "        split = [(training_idx, test_idx)]\n",
    "    elif (split == 'none'):\n",
    "        split = [(None, None)]\n",
    "    for train, test in split:\n",
    "        if (split == 'none'):\n",
    "            X_train = X_\n",
    "            y_train = y_\n",
    "        else:\n",
    "            X_train, X_test, y_train, y_test = X_[train, :], X_[test, :], y_[train, :], y_[test, :]\n",
    "\n",
    "        if (X_.shape[1] == 18):\n",
    "            X_train, input_norm = scale(X_train)\n",
    "            X_test, _ = scale(X_test, normalisation=input_norm)\n",
    "\n",
    "            y_train, input_norm_y = scale(y_train)\n",
    "            y_test, _ = scale(y_test, normalisation=input_norm_y)\n",
    "        elif (X_.shape[1] == 17):\n",
    "            X_train, input_norm = scale(X_train, df=X_no_open)\n",
    "            X_test, _ = scale(X_test, df=X_no_open, normalisation=input_norm)\n",
    "\n",
    "            y_train, input_norm_y = scale(y_train)\n",
    "            y_test, _ = scale(y_test, normalisation=input_norm_y)\n",
    "        \n",
    "        Z = None\n",
    "        if (model == 'sgpr'):\n",
    "            X_and_y = np.c_[X_train, y_train]\n",
    "            X_medoids = X_train[kMedoids(pairwise_distances(X_and_y), N_inducing, 40)[0], :]\n",
    "            X_archetypes = archetypal_analysis(X_and_y, N_inducing)[:, :-1]\n",
    "            Z = np.concatenate(X_medoids, X_archetypes, axis=0)\n",
    "\n",
    "        errors_for_fold = list()\n",
    "        \n",
    "        for i in range(5):\n",
    "            if isinstance(k, gpflow.kernels.Linear):\n",
    "                k.variance = random_initialize(k.variance.value)\n",
    "            if (isinstance(k, gpflow.kernels.RBF) or isinstance(k, gpflow.kernels.Matern32) or isinstance(k, gpflow.kernels.Matern52))  and not isinstance(k.lengthscales.value, float):\n",
    "                k.lengthscales = random_initialize(k.lengthscales.value)\n",
    "                k.variance = random_initialize(k.variance.value)\n",
    "            if hasattr(k, 'kernels'):\n",
    "                for i in range(len(k.kernels)):\n",
    "                    if isinstance(k.kernels[i], gpflow.kernels.Linear):\n",
    "                        k.kernels[i].variance = random_initialize(k.kernels[i].variance.value)\n",
    "                    if isinstance(k.kernels[i], gpflow.kernels.RBF) or isinstance(k.kernels[i], gpflow.kernels.Matern32) or isinstance(k.kernels[i], gpflow.kernels.Matern52):\n",
    "                        k.kernels[i].lengthscales = random_initialize(k.kernels[i].lengthscales.value)\n",
    "                        k.kernels[i].variance = random_initialize(k.kernels[i].variance.value)\n",
    "\n",
    "            with gpflow.defer_build():\n",
    "                m, error = model_from_kernel(k, X_train, y_train, model, opt, Z)\n",
    "\n",
    "            if (split != 'none' and not error): \n",
    "                y_predict_train, var_predict_train = m.predict_y(X_train)\n",
    "                y_predict, var_predict = m.predict_y(X_test)\n",
    "                \n",
    "                mse = mean_squared_error(y_test, y_predict)\n",
    "                \n",
    "                if (len(errors) == 0 or mse <= min(errors)):\n",
    "                    best_m = m\n",
    "                    best_y_train = y_train\n",
    "                    best_y_test = y_test\n",
    "                    best_y_predict_train = y_predict_train\n",
    "                    best_var_predict_train = var_predict_train\n",
    "                    best_y_predict = y_predict\n",
    "                    best_var_predict = var_predict\n",
    "\n",
    "                errors_for_fold.append(mse)\n",
    "            if (split == 'none'):\n",
    "                models.append(m)\n",
    "        if (split != 'none'):\n",
    "            errors.append(min(errors_for_fold))\n",
    "    if (split != 'none'):\n",
    "        print(\"Mean squared error is {0:.3f} for the {1} kernel\\n\".format(np.mean(errors), k_name))\n",
    "        return best_m, (best_y_predict_train, best_var_predict_train, best_y_train), (best_y_predict, best_var_predict, best_y_test)\n",
    "    else:\n",
    "        return models"
   ]
  },
  {
   "cell_type": "markdown",
   "metadata": {
    "nbpresent": {
     "id": "b4677bce-ada3-4607-95ff-dc3e3e49feaa"
    }
   },
   "source": [
    "### Training on the full X dataset"
   ]
  },
  {
   "cell_type": "code",
   "execution_count": 9,
   "metadata": {
    "nbpresent": {
     "id": "8c5bc4e4-3956-4e55-ad55-28301c2e6aef"
    }
   },
   "outputs": [
    {
     "name": "stderr",
     "output_type": "stream",
     "text": [
      "/Volumes/SSD_Julien/DTU/S4_Masters_Thesis/Python/GPflow/gpflow/logdensities.py:89: UserWarning: Shape of x must be 2D at computation.\n",
      "  warnings.warn('Shape of x must be 2D at computation.')\n"
     ]
    },
    {
     "name": "stdout",
     "output_type": "stream",
     "text": [
      "Mean squared error is 0.852 for the Linear kernel\n",
      "\n",
      "Mean squared error is 0.853 for the Linear kernel\n",
      "\n"
     ]
    },
    {
     "data": {
      "text/plain": [
       "''"
      ]
     },
     "execution_count": 9,
     "metadata": {},
     "output_type": "execute_result"
    }
   ],
   "source": [
    "linear_kernel = gpflow.kernels.Linear(M1, ARD=True)\n",
    "cv_model(linear_kernel, X, y, 'Linear', 'gpr')\n",
    "m_fulldataset, _, _ = cv_model(linear_kernel, X, y, 'Linear', 'sgpr')\n",
    ";"
   ]
  },
  {
   "cell_type": "code",
   "execution_count": 13,
   "metadata": {},
   "outputs": [
    {
     "name": "stdout",
     "output_type": "stream",
     "text": [
      "Mean squared error is 1.028 for the RBF kernel\n",
      "\n"
     ]
    },
    {
     "data": {
      "text/plain": [
       "''"
      ]
     },
     "execution_count": 13,
     "metadata": {},
     "output_type": "execute_result"
    }
   ],
   "source": [
    "rbf_kernel = gpflow.kernels.RBF(M1, ARD=True) + gpflow.kernels.White(M1)\n",
    "cv_model(rbf_kernel, X, y, 'RBF', 'sgpr')\n",
    ";"
   ]
  },
  {
   "cell_type": "code",
   "execution_count": 14,
   "metadata": {},
   "outputs": [
    {
     "name": "stdout",
     "output_type": "stream",
     "text": [
      "Mean squared error is 1.072 for the RBF kernel without ARD\n",
      "\n"
     ]
    },
    {
     "data": {
      "text/plain": [
       "''"
      ]
     },
     "execution_count": 14,
     "metadata": {},
     "output_type": "execute_result"
    }
   ],
   "source": [
    "rbf_no_ard_kernel = gpflow.kernels.RBF(M1)\n",
    "cv_model(rbf_no_ard_kernel, X, y, 'RBF kernel without ARD', 'sgpr')\n",
    ";"
   ]
  },
  {
   "cell_type": "code",
   "execution_count": 9,
   "metadata": {},
   "outputs": [
    {
     "name": "stdout",
     "output_type": "stream",
     "text": [
      "Mean squared error is 0.937 for the Matern52 kernel\n",
      "\n"
     ]
    },
    {
     "data": {
      "text/plain": [
       "''"
      ]
     },
     "execution_count": 9,
     "metadata": {},
     "output_type": "execute_result"
    }
   ],
   "source": [
    "matern_kernel = gpflow.kernels.Matern52(M1, ARD=True) + gpflow.kernels.White(M1)\n",
    "cv_model(matern_kernel, X, y, 'Matern52', 'sgpr')\n",
    ";"
   ]
  },
  {
   "cell_type": "markdown",
   "metadata": {},
   "source": [
    "#### Baseline model"
   ]
  },
  {
   "cell_type": "code",
   "execution_count": 9,
   "metadata": {},
   "outputs": [
    {
     "name": "stdout",
     "output_type": "stream",
     "text": [
      "Mean squared error is 1.076 for the Linear kernel\n",
      "\n",
      "Mean squared error is 1.076 for the RBF kernel\n",
      "\n"
     ]
    },
    {
     "data": {
      "text/plain": [
       "''"
      ]
     },
     "execution_count": 9,
     "metadata": {},
     "output_type": "execute_result"
    }
   ],
   "source": [
    "linear_kernel = gpflow.kernels.Linear(M1)\n",
    "rbf_kernel = gpflow.kernels.RBF(M1)\n",
    "X_mean = np.transpose([X.mean(axis=1) for _ in range(X.shape[1])])\n",
    "cv_model(linear_kernel, X_mean, y, 'Linear', 'sgpr')\n",
    "cv_model(rbf_kernel, X_mean, y, 'RBF', 'sgpr')\n",
    ";"
   ]
  },
  {
   "cell_type": "markdown",
   "metadata": {},
   "source": [
    "### Training on the masked $X_2$ dataset"
   ]
  },
  {
   "cell_type": "code",
   "execution_count": 21,
   "metadata": {},
   "outputs": [
    {
     "name": "stdout",
     "output_type": "stream",
     "text": [
      "Mean squared error is 0.972 for the Linear kernel\n",
      "\n"
     ]
    },
    {
     "data": {
      "text/plain": [
       "''"
      ]
     },
     "execution_count": 21,
     "metadata": {},
     "output_type": "execute_result"
    }
   ],
   "source": [
    "linear_kernel = gpflow.kernels.Linear(M1, ARD=True)\n",
    "cv_model(linear_kernel, X2, y2, 'Linear', 'sgpr')\n",
    ";"
   ]
  },
  {
   "cell_type": "code",
   "execution_count": 11,
   "metadata": {},
   "outputs": [
    {
     "name": "stdout",
     "output_type": "stream",
     "text": [
      "Mean squared error is 1.032 for the Matern52 kernel\n",
      "\n"
     ]
    },
    {
     "data": {
      "text/plain": [
       "''"
      ]
     },
     "execution_count": 11,
     "metadata": {},
     "output_type": "execute_result"
    }
   ],
   "source": [
    "matern_kernel = gpflow.kernels.Matern52(M1, ARD=True) + gpflow.kernels.White(M1)\n",
    "cv_model(matern_kernel, X2, y2, 'Matern52', 'gpr')\n",
    ";"
   ]
  },
  {
   "cell_type": "markdown",
   "metadata": {},
   "source": [
    "### Training on the $X_3$ dataset (removed sent_to_open column)"
   ]
  },
  {
   "cell_type": "code",
   "execution_count": 34,
   "metadata": {},
   "outputs": [
    {
     "name": "stdout",
     "output_type": "stream",
     "text": [
      "Mean squared error is 1.074 for the Linear kernel\n",
      "\n",
      "Mean squared error is 1.076 for the RBF kernel\n",
      "\n"
     ]
    },
    {
     "data": {
      "text/plain": [
       "''"
      ]
     },
     "execution_count": 34,
     "metadata": {},
     "output_type": "execute_result"
    }
   ],
   "source": [
    "linear_kernel = gpflow.kernels.Linear(M3, ARD=True)\n",
    "rbf_kernel = gpflow.kernels.RBF(M3, ARD=True)\n",
    "cv_model(linear_kernel, X3, y, 'Linear', 'sgpr')\n",
    "cv_model(rbf_kernel, X3, y, 'RBF', 'sgpr')\n",
    "#cv_model(matern_kernel, X, y, 'Matern52', 'sgpr')\n",
    ";"
   ]
  },
  {
   "cell_type": "code",
   "execution_count": 11,
   "metadata": {},
   "outputs": [
    {
     "name": "stdout",
     "output_type": "stream",
     "text": [
      "Mean squared error is 1.076 for the Linear kernel\n",
      "\n",
      "Mean squared error is 1.076 for the RBF kernel\n",
      "\n"
     ]
    },
    {
     "data": {
      "text/plain": [
       "''"
      ]
     },
     "execution_count": 11,
     "metadata": {},
     "output_type": "execute_result"
    }
   ],
   "source": [
    "linear_kernel = gpflow.kernels.Linear(M3)\n",
    "rbf_kernel = gpflow.kernels.RBF(M3)\n",
    "X3_mean = np.transpose([X3.mean(axis=1) for _ in range(X3.shape[1])])\n",
    "cv_model(linear_kernel, X3_mean, y, 'Linear', 'sgpr')\n",
    "cv_model(rbf_kernel, X3_mean, y, 'RBF', 'sgpr')\n",
    "#cv_model(matern_kernel, X, y, 'Matern52', 'sgpr')\n",
    ";"
   ]
  },
  {
   "cell_type": "markdown",
   "metadata": {},
   "source": [
    "### $X_2$ dataset, best kernel and sparse model, training on full dataset (90% + 10% for testing)"
   ]
  },
  {
   "cell_type": "code",
   "execution_count": 20,
   "metadata": {},
   "outputs": [
    {
     "name": "stderr",
     "output_type": "stream",
     "text": [
      "/Volumes/SSD_Julien/DTU/S4_Masters_Thesis/Python/GPflow/gpflow/logdensities.py:89: UserWarning: Shape of x must be 2D at computation.\n",
      "  warnings.warn('Shape of x must be 2D at computation.')\n"
     ]
    },
    {
     "name": "stdout",
     "output_type": "stream",
     "text": [
      "Mean squared error is 0.217 for the Linear kernel\n",
      "\n"
     ]
    }
   ],
   "source": [
    "m, (y_predict_train, var_predict_train, y_train), (y_predict, var_predict, y_test) = cv_model(linear_kernel, X2, y2, 'Linear', 'sgpr', 'scipy', 'final')\n"
   ]
  },
  {
   "cell_type": "code",
   "execution_count": 24,
   "metadata": {},
   "outputs": [
    {
     "data": {
      "text/plain": [
       "{'end_to_sent_delta': 1.0008088889554894e-06,\n",
       " 'last_progress_report_value': 1.1635521337841455e-06,\n",
       " 'last_report_delta': 1.8497179158415037e-06,\n",
       " 'package_duration': 1.6893655108727572e-06,\n",
       " 'sent_to_open_delta': 0.08579675482581524,\n",
       " 'time_of_day': 0.003028119421632104,\n",
       " 'day_of_week_0': 1.230187114410781e-06,\n",
       " 'day_of_week_1': 1.0078019650435592e-06,\n",
       " 'day_of_week_2': 1.7289204885378978e-06,\n",
       " 'day_of_week_3': 1.0714191842364198e-06,\n",
       " 'day_of_week_4': 1.3801533373820821e-06,\n",
       " 'day_of_week_5': 1.1819868810648316e-05,\n",
       " 'day_of_week_6': 1.0065622489449147e-06,\n",
       " 'tone_1': 1.0823329133172078e-06,\n",
       " 'tone_2': 0.07975415321677656,\n",
       " 'tone_3': 1.626044142404205e-06,\n",
       " 'who_assigned_role_owner': 2.723827991148283e-06,\n",
       " 'who_assigned_role_manager': 0.0039427379941747425}"
      ]
     },
     "execution_count": 24,
     "metadata": {},
     "output_type": "execute_result"
    }
   ],
   "source": [
    "dict(zip(X_pd.columns.values, m.kern.variance.value))"
   ]
  },
  {
   "cell_type": "code",
   "execution_count": 22,
   "metadata": {
    "nbpresent": {
     "id": "4d1d9f64-bc08-48aa-9622-a26bfe5237aa"
    }
   },
   "outputs": [],
   "source": [
    "import matplotlib.pyplot as plt\n",
    "%matplotlib inline\n",
    "def plot_prediction_against_truth(y_predicted, err_predicted, y_truth):\n",
    "    N = y_predicted.shape[0]\n",
    "    plt.tight_layout(pad=0)\n",
    "    plt.margins(0.005)\n",
    "    plt.plot(range(N), y_truth, '.b')\n",
    "    plt.errorbar(range(N), y_predicted, yerr=err_predicted, fmt='.r', lw=0.5)\n",
    "    plt.xlabel('Sample')\n",
    "    plt.ylabel('\"Score\" of the user')"
   ]
  },
  {
   "cell_type": "code",
   "execution_count": 23,
   "metadata": {
    "nbpresent": {
     "id": "0add03dc-d7b4-4144-ac85-9a492f90a774"
    }
   },
   "outputs": [
    {
     "data": {
      "image/png": "[encoded data removed]",
      "text/plain": [
       "<matplotlib.figure.Figure at 0x134d35630>"
      ]
     },
     "metadata": {},
     "output_type": "display_data"
    },
    {
     "data": {
      "image/png": "[encoded data removed]",
      "text/plain": [
       "<matplotlib.figure.Figure at 0x1431fb0f0>"
      ]
     },
     "metadata": {},
     "output_type": "display_data"
    }
   ],
   "source": [
    "plt.figure(figsize=(45, 9))\n",
    "plot_prediction_against_truth(y_predict_train, np.sqrt(var_predict_train), y_train)\n",
    "plt.figure(figsize=(15, 9))\n",
    "plot_prediction_against_truth(y_predict, np.sqrt(var_predict), y_test)"
   ]
  },
  {
   "cell_type": "markdown",
   "metadata": {},
   "source": [
    "## LVM\n",
    "\n",
    "Unfortunately, the LVM does not seem to be able to train due to memory restrictions."
   ]
  },
  {
   "cell_type": "code",
   "execution_count": 2,
   "metadata": {},
   "outputs": [],
   "source": [
    "N_latent = 6\n",
    "N_inducing = 20\n",
    "\n",
    "def lvm_model_from_kernel(k, X_, opt='scipy', InducingPoints=None, LVM_Params=None):\n",
    "    try:\n",
    "        data_mean = LVM_Params[0]\n",
    "        data_var = LVM_Params[1]\n",
    "        m = gpflow.models.BayesianGPLVM(X_mean=data_mean, X_var=data_var, Y=X_, kern=k, M=2*N_inducing, Z=InducingPoints)\n",
    "        assert m is not None\n",
    "        set_white_variance(m, 1e-3)\n",
    "        optimize_model(m, opt)\n",
    "        went_wrong = False\n",
    "    except (AttributeError, tf.errors.InvalidArgumentError):\n",
    "        try:\n",
    "            m1 = gpflow.models.BayesianGPLVM(X_mean=data_mean, X_var=data_var, Y=X_, kern=k, M=2*N_inducing, Z=InducingPoints)\n",
    "            assert m1 is not None\n",
    "            set_white_variance(m1, 1e-1)\n",
    "            print('Trying with higher diagonal jitter (lvm)')\n",
    "            optimize_model(m1, opt)\n",
    "            return m1, False\n",
    "        except (AttributeError, tf.errors.InvalidArgumentError):\n",
    "            print('The data in this split is not compatible with this kernel (lvm).')\n",
    "            went_wrong = True\n",
    "    \n",
    "    return m, went_wrong\n",
    "\n",
    "def lvm_cv_model(k, X_, y_, k_name, opt='scipy', split='kfold'):\n",
    "    errors = list()\n",
    "    y_predict_train = list()\n",
    "    var_predict_train = list()\n",
    "    y_predict = list()\n",
    "    var_predict = list()\n",
    "    \n",
    "    split = kf.split(X_)\n",
    "    for train, test in split:\n",
    "        X_train, y_train = X_[train, :], y_[train, :]\n",
    "        print(X_train)\n",
    "\n",
    "        if (X_.shape[1] == 18):\n",
    "            X_train, input_norm = scale(X_train)\n",
    "            #X_test, _ = scale(X_test, normalisation=input_norm)\n",
    "        elif (X_.shape[1] == 17):\n",
    "            X_train, input_norm = scale(X_train, df=X_no_open)\n",
    "            #X_test, _ = scale(X_test, df=X_no_open, normalisation=input_norm)\n",
    "\n",
    "        data_mean = gpflow.models.PCA_reduce(X_train, N_latent)\n",
    "        data_var = 0.1 * np.ones((data_mean.shape[0], N_latent))\n",
    "        \n",
    "        data_medoids = data_mean[kMedoids(pairwise_distances(data_mean), N_inducing, 40)[0], :]\n",
    "        data_archetypes = archetypal_analysis(data_mean, N_inducing)\n",
    "        Z = np.concatenate((data_medoids, data_archetypes), axis=0)\n",
    "\n",
    "        errors_for_fold = list()\n",
    "        for i in range(1):\n",
    "            if isinstance(k, gpflow.kernels.Linear):\n",
    "                k.variance = random_initialize(k.variance.value)\n",
    "            if (isinstance(k, gpflow.kernels.RBF) or isinstance(k, gpflow.kernels.Matern32) or isinstance(k, gpflow.kernels.Matern52))  and not isinstance(k.lengthscales.value, float):\n",
    "                k.lengthscales = random_initialize(k.lengthscales.value)\n",
    "                k.variance = random_initialize(k.variance.value)\n",
    "            if hasattr(k, 'kernels'):\n",
    "                for i in range(len(k.kernels)):\n",
    "                    if isinstance(k.kernels[i], gpflow.kernels.Linear):\n",
    "                        k.kernels[i].variance = random_initialize(k.kernels[i].variance.value)\n",
    "                    if isinstance(k.kernels[i], gpflow.kernels.RBF) or isinstance(k.kernels[i], gpflow.kernels.Matern32) or isinstance(k.kernels[i], gpflow.kernels.Matern52):\n",
    "                        k.kernels[i].lengthscales = random_initialize(k.kernels[i].lengthscales.value)\n",
    "                        k.kernels[i].variance = random_initialize(k.kernels[i].variance.value)\n",
    "\n",
    "            with gpflow.defer_build():\n",
    "                lvm_model, error = lvm_model_from_kernel(k, X_train, opt, Z, (data_mean, data_var))\n",
    "\n",
    "            if not error: \n",
    "                latent_X_train = m.X_mean.read_value()\n",
    "                print(latent_X_train)\n",
    "                models = list()\n",
    "                for i in range(1):\n",
    "                    if isinstance(k, gpflow.kernels.Linear):\n",
    "                        k.variance = random_initialize(k.variance.value)\n",
    "                    if (isinstance(k, gpflow.kernels.RBF) or isinstance(k, gpflow.kernels.Matern32) or isinstance(k, gpflow.kernels.Matern52))  and not isinstance(k.lengthscales.value, float):\n",
    "                        k.lengthscales = random_initialize(k.lengthscales.value)\n",
    "                        k.variance = random_initialize(k.variance.value)\n",
    "                    if hasattr(k, 'kernels'):\n",
    "                        for i in range(len(k.kernels)):\n",
    "                            if isinstance(k.kernels[i], gpflow.kernels.Linear):\n",
    "                                k.kernels[i].variance = random_initialize(k.kernels[i].variance.value)\n",
    "                            if isinstance(k.kernels[i], gpflow.kernels.RBF) or isinstance(k.kernels[i], gpflow.kernels.Matern32) or isinstance(k.kernels[i], gpflow.kernels.Matern52):\n",
    "                                k.kernels[i].lengthscales = random_initialize(k.kernels[i].lengthscales.value)\n",
    "                                k.kernels[i].variance = random_initialize(k.kernels[i].variance.value)\n",
    "                    with gpflow.defer_build():\n",
    "                        models = models + cv_model(k, latent_X_train, y_train,  'Inner ' + k_name, 'gpr', opt, split='none')\n",
    "                \n",
    "                for r_model in models:\n",
    "                    y_predict_train, var_predict_train = r_model.predict_y(latent_X_train)\n",
    "                    y_predict, var_predict = r_model.predict_y(X_test)\n",
    "                    \n",
    "                    mse = mean_squared_error(y_test, y_predict)\n",
    "                \n",
    "                    if (len(errors) == 0 or mse <= min(errors)):\n",
    "                        best_m = m\n",
    "                        best_y_train = y_train\n",
    "                        best_y_test = y_test\n",
    "                        best_y_predict_train = y_predict_train\n",
    "                        best_var_predict_train = var_predict_train\n",
    "                        best_y_predict = y_predict\n",
    "                        best_var_predict = var_predict\n",
    "\n",
    "                    errors_for_fold.append(mse)\n",
    "\n",
    "        errors.append(min(errors_for_fold))\n",
    "        print(\"Mean squared error is {0:.3f} for the {1} kernel\\n\".format(np.mean(errors), k_name))\n",
    "        return best_m, (best_y_predict_train, best_var_predict_train, best_y_train), (best_y_predict, best_var_predict, best_y_test)"
   ]
  },
  {
   "cell_type": "code",
   "execution_count": null,
   "metadata": {
    "nbpresent": {
     "id": "a6d0b99b-73cc-4453-a26c-eae593fe01b7"
    }
   },
   "outputs": [],
   "source": []
  },
  {
   "cell_type": "code",
   "execution_count": null,
   "metadata": {},
   "outputs": [],
   "source": [
    "M = N_latent\n",
    "linear_kernel = gpflow.kernels.Linear(M, ARD=True)\n",
    "rbf_kernel = gpflow.kernels.RBF(M, ARD=True) + gpflow.kernels.White(M)\n",
    "m, _, _ = lvm_cv_model(rbf_kernel, X, y, 'LVM Linear')"
   ]
  },
  {
   "cell_type": "code",
   "execution_count": null,
   "metadata": {},
   "outputs": [],
   "source": []
  },
  {
   "cell_type": "code",
   "execution_count": null,
   "metadata": {},
   "outputs": [],
   "source": []
  }
 ],
 "metadata": {
  "kernelspec": {
   "display_name": "Python [conda root]",
   "language": "python",
   "name": "conda-root-py"
  },
  "language_info": {
   "codemirror_mode": {
    "name": "ipython",
    "version": 3
   },
   "file_extension": ".py",
   "mimetype": "text/x-python",
   "name": "python",
   "nbconvert_exporter": "python",
   "pygments_lexer": "ipython3",
   "version": "3.6.4"
  }
 },
 "nbformat": 4,
 "nbformat_minor": 2
}
